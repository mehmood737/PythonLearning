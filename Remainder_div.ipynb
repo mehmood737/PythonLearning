{
 "cells": [
  {
   "cell_type": "code",
   "execution_count": null,
   "metadata": {},
   "outputs": [],
   "source": [
    "# Takes two numbers\n",
    "# Divides first from second and gives the remainder as well.\n",
    "import math\n",
    "\n",
    "dvdnd : int = int (input (\"Enter the first dividend number please: \"))\n",
    "dvsr : int = int (input (\"Enter the second divisor number please: \"))\n",
    "\n",
    "quotient: int = dvdnd // dvsr\n",
    "remainder: int = dvdnd % dvsr\n",
    "\n",
    "\n",
    "\n",
    "print(\"Result of division is: \" + str(quotient) + \" with a remainder of : \" + str(remainder))"
   ]
  }
 ],
 "metadata": {
  "kernelspec": {
   "display_name": "Python 3",
   "language": "python",
   "name": "python3"
  },
  "language_info": {
   "codemirror_mode": {
    "name": "ipython",
    "version": 3
   },
   "file_extension": ".py",
   "mimetype": "text/x-python",
   "name": "python",
   "nbconvert_exporter": "python",
   "pygments_lexer": "ipython3",
   "version": "3.12.3"
  }
 },
 "nbformat": 4,
 "nbformat_minor": 2
}
