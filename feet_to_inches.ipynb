{
 "cells": [
  {
   "cell_type": "code",
   "execution_count": 4,
   "metadata": {},
   "outputs": [
    {
     "name": "stdout",
     "output_type": "stream",
     "text": [
      "Inches in 10.3 are 123.60000000000001\n"
     ]
    }
   ],
   "source": [
    "#THis program converts feet into inches...\n",
    "\n",
    "INCHES_IN_FOOT : int = 12\n",
    "\n",
    "feet : float = float (input(\"Enter the Feet to be converted to inches: \"))\n",
    "inches : float = feet * INCHES_IN_FOOT\n",
    "\n",
    "print (\"Inches in \" + str(feet) + \" are \" + str(inches)  )\n",
    "\n"
   ]
  }
 ],
 "metadata": {
  "kernelspec": {
   "display_name": "Python 3",
   "language": "python",
   "name": "python3"
  },
  "language_info": {
   "codemirror_mode": {
    "name": "ipython",
    "version": 3
   },
   "file_extension": ".py",
   "mimetype": "text/x-python",
   "name": "python",
   "nbconvert_exporter": "python",
   "pygments_lexer": "ipython3",
   "version": "3.12.3"
  }
 },
 "nbformat": 4,
 "nbformat_minor": 2
}
