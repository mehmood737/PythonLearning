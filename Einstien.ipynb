{
 "cells": [
  {
   "cell_type": "code",
   "execution_count": 5,
   "metadata": {},
   "outputs": [
    {
     "name": "stdout",
     "output_type": "stream",
     "text": [
      "This is program Enstien's equation calculation E=mC^2\n",
      "The Einstien's equation to calculate the energy in joules is as e = m * C^2...\n",
      "Mass entered is = 1.0 kgs\n",
      "C = 299792458 m/s\n",
      "This mass contains 8.987551787368176e+16 Joules of energy\n"
     ]
    }
   ],
   "source": [
    "print(\"This is program Enstien's equation calculation E=mC^2\")\n",
    "C: int = 299792458\n",
    "mass_kg: float = float(input(\"Enter kilos for mass: \"))\n",
    "\n",
    "energy : float = mass_kg * (C **2)\n",
    "\n",
    "print(\"The Einstien's equation to calculate the energy in joules is as e = m * C^2...\")\n",
    "print(\"Mass entered is = \" + str(mass_kg) + \" kgs\")\n",
    "print(\"C = \" + str(C) + \" m/s\")\n",
    "\n",
    "print(\"This mass contains \" + str(energy) + \" Joules of energy\")\n",
    "\n",
    "\n",
    "\n"
   ]
  }
 ],
 "metadata": {
  "kernelspec": {
   "display_name": "Python 3",
   "language": "python",
   "name": "python3"
  },
  "language_info": {
   "codemirror_mode": {
    "name": "ipython",
    "version": 3
   },
   "file_extension": ".py",
   "mimetype": "text/x-python",
   "name": "python",
   "nbconvert_exporter": "python",
   "pygments_lexer": "ipython3",
   "version": "3.12.3"
  }
 },
 "nbformat": 4,
 "nbformat_minor": 2
}
