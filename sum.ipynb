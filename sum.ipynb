{
 "cells": [
  {
   "cell_type": "code",
   "execution_count": 7,
   "metadata": {},
   "outputs": [
    {
     "name": "stdout",
     "output_type": "stream",
     "text": [
      "this proj. adds two numbers.\n",
      "the sum of both numbers is 16\n"
     ]
    }
   ],
   "source": [
    "# This project adds two numbers\n",
    "\n",
    "print(\"this proj. adds two numbers.\")\n",
    "\n",
    "n1 : str = input (\"Enter 1st number please:\")\n",
    "n1 : int = int(n1)\n",
    "n2 : str = input (\"Enter 2nd number please:\")\n",
    "n2 : int = int(n2)\n",
    "\n",
    "sum : int = n1 + n2\n",
    "\n",
    "print(\"the sum of both numbers is \"+ str(sum) )\n",
    "    \n"
   ]
  }
 ],
 "metadata": {
  "kernelspec": {
   "display_name": "Python 3",
   "language": "python",
   "name": "python3"
  },
  "language_info": {
   "codemirror_mode": {
    "name": "ipython",
    "version": 3
   },
   "file_extension": ".py",
   "mimetype": "text/x-python",
   "name": "python",
   "nbconvert_exporter": "python",
   "pygments_lexer": "ipython3",
   "version": "3.12.3"
  }
 },
 "nbformat": 4,
 "nbformat_minor": 2
}
