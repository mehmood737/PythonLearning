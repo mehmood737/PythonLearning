{
 "cells": [
  {
   "cell_type": "code",
   "execution_count": null,
   "metadata": {},
   "outputs": [
    {
     "name": "stdout",
     "output_type": "stream",
     "text": [
      "<class 'float'>\n",
      "your user_weight\n",
      "30.24\n"
     ]
    }
   ],
   "source": [
    "MARS_CONST : float = .378\n",
    "# Getting user weight\n",
    "user_weight : float = float (input(\"Enter your weight please: \"))\n",
    "print(type(user_weight))\n",
    "print(user_weight)\n",
    "\n",
    "\n",
    "# user weight on mars\n",
    "mars_weight = round ((user_weight * MARS_CONST), 2)\n",
    "print(mars_weight)\n"
   ]
  },
  {
   "cell_type": "code",
   "execution_count": null,
   "metadata": {},
   "outputs": [],
   "source": [
    "def planet_wieght_calc():\n",
    "    user_weight : float = float (input(\"Enter your weight on earth please: \"))\n",
    "    planet_name : str = input (\"what is the planet name you have landed on: \")\n",
    "\n",
    "    \n",
    "\n",
    "\n",
    "# user weight on mars\n",
    "mars_weight = round ((user_weight * MARS_CONST), 2)\n",
    "print(mars_weight)"
   ]
  }
 ],
 "metadata": {
  "kernelspec": {
   "display_name": "Python 3",
   "language": "python",
   "name": "python3"
  },
  "language_info": {
   "codemirror_mode": {
    "name": "ipython",
    "version": 3
   },
   "file_extension": ".py",
   "mimetype": "text/x-python",
   "name": "python",
   "nbconvert_exporter": "python",
   "pygments_lexer": "ipython3",
   "version": "3.12.3"
  }
 },
 "nbformat": 4,
 "nbformat_minor": 2
}
